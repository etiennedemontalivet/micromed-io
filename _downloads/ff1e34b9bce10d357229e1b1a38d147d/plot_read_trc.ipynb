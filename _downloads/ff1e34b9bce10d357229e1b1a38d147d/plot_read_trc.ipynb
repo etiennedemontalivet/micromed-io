{
  "cells": [
    {
      "cell_type": "markdown",
      "metadata": {},
      "source": [
        "\n# Read TRC file data\n\nHere we read a trc file recorded with a Micromed system. We access the header, the notes, \nthe markers and the data.\n"
      ]
    },
    {
      "cell_type": "code",
      "execution_count": null,
      "metadata": {
        "collapsed": false
      },
      "outputs": [],
      "source": [
        "# Author: Etienne de Montalivet <etienne.demontalivet@protonmail.com>\n#\n# License: BSD-3-Clause"
      ]
    },
    {
      "cell_type": "code",
      "execution_count": null,
      "metadata": {
        "collapsed": false
      },
      "outputs": [],
      "source": [
        "from micromed_io.trc import MicromedTRC\nfrom pathlib import Path\n\nfname = Path(\"../data/sample.TRC\")\nmmtrc = MicromedTRC(fname)"
      ]
    },
    {
      "cell_type": "markdown",
      "metadata": {},
      "source": [
        "To get most useful data from the header, you can use ``micromed_header``\n\n"
      ]
    },
    {
      "cell_type": "code",
      "execution_count": null,
      "metadata": {
        "collapsed": false
      },
      "outputs": [],
      "source": [
        "print(mmtrc.micromed_header)\nhdr = mmtrc.micromed_header\nprint(\n    f\"Participant {hdr.name}-{hdr.surname} recorded with {hdr.nb_of_channels} channels \"\n    + f\"({hdr.ch_names}) at {mmtrc.sfreq}Hz with {hdr.acq_unit}.\"\n)"
      ]
    },
    {
      "cell_type": "markdown",
      "metadata": {},
      "source": [
        "If this is not enough for you, you can look for what you need in the full ``_header``\n\n"
      ]
    },
    {
      "cell_type": "code",
      "execution_count": null,
      "metadata": {
        "collapsed": false
      },
      "outputs": [],
      "source": [
        "mmtrc._header"
      ]
    },
    {
      "cell_type": "markdown",
      "metadata": {},
      "source": [
        "To extract notes from recording in the format ``{sample0 : note0, ... sampleN: noteN}``\n\n"
      ]
    },
    {
      "cell_type": "code",
      "execution_count": null,
      "metadata": {
        "collapsed": false
      },
      "outputs": [],
      "source": [
        "mmtrc.get_notes()"
      ]
    },
    {
      "cell_type": "markdown",
      "metadata": {},
      "source": [
        "To extract markers from recording in the format ``{sample0 : marker0, ... sampleN: markerN}``\n\n"
      ]
    },
    {
      "cell_type": "code",
      "execution_count": null,
      "metadata": {
        "collapsed": false
      },
      "outputs": [],
      "source": [
        "mmtrc.get_markers()"
      ]
    },
    {
      "cell_type": "markdown",
      "metadata": {},
      "source": [
        "If you need markers or notes times in seconds, just divide by the sampling frequency\n\n"
      ]
    },
    {
      "cell_type": "code",
      "execution_count": null,
      "metadata": {
        "collapsed": false
      },
      "outputs": [],
      "source": [
        "{k / mmtrc.sfreq: v for k, v in mmtrc.get_markers().items()}"
      ]
    },
    {
      "cell_type": "markdown",
      "metadata": {},
      "source": [
        "To get and play with the data, simply use:\n\n"
      ]
    },
    {
      "cell_type": "code",
      "execution_count": null,
      "metadata": {
        "collapsed": false
      },
      "outputs": [],
      "source": [
        "data = mmtrc.get_data()\nprint(f\"data shape: {data.shape}\")\n# or, if you want the 1st channel data only:\ndata_ch1 = mmtrc.get_data(picks=[hdr.ch_names[0]])\nprint(f\"data_ch1 shape: {data_ch1.shape}\")"
      ]
    }
  ],
  "metadata": {
    "kernelspec": {
      "display_name": "Python 3",
      "language": "python",
      "name": "python3"
    },
    "language_info": {
      "codemirror_mode": {
        "name": "ipython",
        "version": 3
      },
      "file_extension": ".py",
      "mimetype": "text/x-python",
      "name": "python",
      "nbconvert_exporter": "python",
      "pygments_lexer": "ipython3",
      "version": "3.9.12"
    }
  },
  "nbformat": 4,
  "nbformat_minor": 0
}